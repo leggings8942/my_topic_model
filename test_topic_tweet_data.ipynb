{
 "cells": [
  {
   "cell_type": "code",
   "execution_count": null,
   "metadata": {},
   "outputs": [],
   "source": [
    "%load_ext autoreload\n",
    "%autoreload 2\n",
    "\n",
    "import numpy as np\n",
    "import pandas as pd\n",
    "\n",
    "from Latent_Dirichlet_Allocation import LDA_In_EM, LDA_In_VB\n",
    "\n",
    "%matplotlib inline"
   ]
  },
  {
   "cell_type": "code",
   "execution_count": null,
   "metadata": {},
   "outputs": [],
   "source": [
    "df_tweet = pd.read_csv('csv_data/20250127_tweet_data.csv')\n",
    "df_tweet['text'] = df_tweet['text'].str.removeprefix('[').str.removesuffix(']')\n",
    "df_tweet = df_tweet[['text']]"
   ]
  },
  {
   "cell_type": "code",
   "execution_count": null,
   "metadata": {},
   "outputs": [],
   "source": [
    "model = LDA_In_EM(df_tweet, topic_num=5)\n",
    "model.fit()\n",
    "\n",
    "print(f'topic of EM algorithm: finished')"
   ]
  },
  {
   "cell_type": "code",
   "execution_count": null,
   "metadata": {},
   "outputs": [],
   "source": [
    "pd_θ, pd_Φ = model.stats_info()\n",
    "pd_θ.to_parquet('./parquet_data/20250227_tweet_EM_θ.parquet')\n",
    "pd_Φ.to_parquet('./parquet_data/20250227_tweet_EM_Φ.parquet')"
   ]
  },
  {
   "cell_type": "code",
   "execution_count": null,
   "metadata": {},
   "outputs": [],
   "source": [
    "model = LDA_In_VB(df_tweet, topic_num=5)\n",
    "model.fit()\n",
    "\n",
    "print(f'topic of Variational Bayes algorithm: finished')"
   ]
  },
  {
   "cell_type": "code",
   "execution_count": null,
   "metadata": {},
   "outputs": [],
   "source": [
    "pd_θ, pd_Φ = model.stats_info()\n",
    "pd_θ.to_parquet('./parquet_data/20250227_tweet_VB_θ.parquet')\n",
    "pd_Φ.to_parquet('./parquet_data/20250227_tweet_VB_Φ.parquet')"
   ]
  },
  {
   "cell_type": "code",
   "execution_count": null,
   "metadata": {},
   "outputs": [],
   "source": []
  }
 ],
 "metadata": {
  "kernelspec": {
   "display_name": "Python 3",
   "language": "python",
   "name": "python3"
  },
  "language_info": {
   "codemirror_mode": {
    "name": "ipython",
    "version": 3
   },
   "file_extension": ".py",
   "mimetype": "text/x-python",
   "name": "python",
   "nbconvert_exporter": "python",
   "pygments_lexer": "ipython3",
   "version": "3.13.1"
  }
 },
 "nbformat": 4,
 "nbformat_minor": 2
}
