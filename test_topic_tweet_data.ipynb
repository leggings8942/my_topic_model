{
 "cells": [
  {
   "cell_type": "code",
   "execution_count": 1,
   "metadata": {},
   "outputs": [],
   "source": [
    "%load_ext autoreload\n",
    "%autoreload 2\n",
    "\n",
    "import numpy as np\n",
    "import pandas as pd\n",
    "\n",
    "from Latent_Dirichlet_Allocation import LDA_In_EM, LDA_In_VB\n",
    "\n",
    "%matplotlib inline"
   ]
  },
  {
   "cell_type": "code",
   "execution_count": 2,
   "metadata": {},
   "outputs": [],
   "source": [
    "df_tweet = pd.read_csv('csv_data/20250127_tweet_data.csv')\n",
    "df_tweet['text'] = df_tweet['text'].str.removeprefix('[').str.removesuffix(']')\n",
    "df_tweet = df_tweet[['text']]"
   ]
  },
  {
   "cell_type": "code",
   "execution_count": 3,
   "metadata": {},
   "outputs": [
    {
     "name": "stdout",
     "output_type": "stream",
     "text": [
      "学習回数：0\n",
      "学習回数：100\n",
      "学習回数：200\n",
      "学習回数：300\n",
      "学習回数：400\n",
      "学習回数：500\n",
      "学習回数：600\n",
      "学習回数：700\n",
      "学習回数：800\n",
      "topic of EM algorithm: finished\n"
     ]
    }
   ],
   "source": [
    "model = LDA_In_EM(df_tweet, topic_num=5)\n",
    "model.fit()\n",
    "\n",
    "print(f'topic of EM algorithm: finished')"
   ]
  },
  {
   "cell_type": "code",
   "execution_count": 4,
   "metadata": {},
   "outputs": [],
   "source": [
    "pd_θ, pd_Φ = model.stats_info()\n",
    "pd_θ.to_parquet('./parquet_data/20250227_tweet_EM_θ.parquet')\n",
    "pd_Φ.to_parquet('./parquet_data/20250227_tweet_EM_Φ.parquet')"
   ]
  },
  {
   "cell_type": "code",
   "execution_count": 19,
   "metadata": {},
   "outputs": [
    {
     "name": "stdout",
     "output_type": "stream",
     "text": [
      "学習回数：0\n",
      "誤差：441009.1618140226\n",
      "\n",
      "学習回数：100\n",
      "誤差：9.003693150558439\n",
      "\n",
      "学習回数：200\n",
      "誤差：0.03454003395203732\n",
      "\n",
      "学習回数：300\n",
      "誤差：0.0014839372426443832\n",
      "\n",
      "学習回数：400\n",
      "誤差：2.3289763506276167e-05\n",
      "\n",
      "学習回数：500\n",
      "誤差：1.746795801426084e-06\n",
      "\n",
      "学習回数：600\n",
      "誤差：1.0037807434147947e-06\n",
      "\n",
      "topic of Variational Bayes algorithm: finished\n"
     ]
    }
   ],
   "source": [
    "model = LDA_In_VB(df_tweet, topic_num=5)\n",
    "model.fit()\n",
    "\n",
    "print(f'topic of Variational Bayes algorithm: finished')"
   ]
  },
  {
   "cell_type": "code",
   "execution_count": 21,
   "metadata": {},
   "outputs": [],
   "source": [
    "pd_θ, pd_Φ = model.stats_info()\n",
    "pd_θ.to_parquet('./parquet_data/20250227_tweet_VB_θ.parquet')\n",
    "pd_Φ.to_parquet('./parquet_data/20250227_tweet_VB_Φ.parquet')"
   ]
  },
  {
   "cell_type": "code",
   "execution_count": null,
   "metadata": {},
   "outputs": [],
   "source": []
  }
 ],
 "metadata": {
  "kernelspec": {
   "display_name": "Python 3",
   "language": "python",
   "name": "python3"
  },
  "language_info": {
   "codemirror_mode": {
    "name": "ipython",
    "version": 3
   },
   "file_extension": ".py",
   "mimetype": "text/x-python",
   "name": "python",
   "nbconvert_exporter": "python",
   "pygments_lexer": "ipython3",
   "version": "3.13.1"
  }
 },
 "nbformat": 4,
 "nbformat_minor": 2
}
