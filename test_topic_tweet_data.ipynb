{
 "cells": [
  {
   "cell_type": "code",
   "execution_count": 1,
   "metadata": {},
   "outputs": [],
   "source": [
    "%load_ext autoreload\n",
    "%autoreload 2\n",
    "\n",
    "import numpy as np\n",
    "import pandas as pd\n",
    "\n",
    "from Latent_Dirichlet_Allocation import normalization_string, create_stop_word\n",
    "from Latent_Dirichlet_Allocation import LDA_In_EM, LDA_In_VB, LDA_In_CGS\n",
    "\n",
    "%matplotlib inline"
   ]
  },
  {
   "cell_type": "code",
   "execution_count": 2,
   "metadata": {},
   "outputs": [
    {
     "data": {
      "application/vnd.microsoft.datawrangler.viewer.v0+json": {
       "columns": [
        {
         "name": "index",
         "rawType": "int64",
         "type": "integer"
        },
        {
         "name": "text",
         "rawType": "object",
         "type": "string"
        }
       ],
       "conversionMethod": "pd.DataFrame",
       "ref": "384ceb24-f459-422f-a92a-d7e72a9d67f5",
       "rows": [
        [
         "0",
         "'昨日は山でメガネを失くし、今日は脚立登ってたら腰を痛めた。今メガネ買いにショッピングモールのjinsは足をヨタヨタ引きずりながら買い物に来ている。'"
        ],
        [
         "1",
         "'フードコートで休憩すると向かいのjinsのチョンウォヌデカ広告を見ながらご飯食えていいのよね'"
        ],
        [
         "2",
         "'入り口入ったらウォヌがお出迎え ウォヌを抜擢してくれたjinsさんお目が高い!!️#jinswithwonwoo  "
        ],
        [
         "3",
         "'眼鏡どこで作ろかな...', '', 'zoffかjinsくらいしかおもいうかばん'"
        ],
        [
         "4",
         "'jinsは当日だったんだよ '"
        ],
        [
         "5",
         "'今日のs株', 'inpex(nisa)', '三菱商事(nisa)', 'インターメスティック(特定)', '', 'jinsよりzoff派', '日経は下げてたけど持ち株のほとんどは上がった。'"
        ],
        [
         "6",
         "'結局', 'また、jinsでメガネ', '買ってしまった '"
        ],
        [
         "7",
         "'本日のs株(全部1株)', '4042東ソー', '4044セントラル硝子', '5889japan eyewear holdings', 'ジャパンアイウェアは福井・鯖江の高級メガネブランド「金子眼鏡」と「フォーナインズ」を展開', '昔', '愛眼・メガネの三城・メガネスーパー', '今', 'ジンズ', 'これから', '金子眼鏡', 'とみて、1株からスタートしました...  "
        ],
        [
         "8",
         "'度が合わなかったからjinsいこ  '"
        ],
        [
         "9",
         "'jinsにレンズの度数あったからこれでvr用レンズいけるか?'"
        ],
        [
         "10",
         "'最近目が見えにくい のでjinsに行ってメガネを 作ってきた。使っていたメガネ で視力測ったら0.6だった  ', '新しいメガネ 前のメガネより 4段階度数が上がったって店員さんが言ってた \\u3000', '', '..となると ...    "
        ],
        [
         "11",
         "' あんさんぶるトレーニング!! ', '', '七種茨くんとの', '10日目のトレーニングを完了 ', '', '今日は天満光くんと一緒に『リズムバックエクステンション』などをやりました ', '', '#あんトレ\\u3000#あんスタ健康にいい', '仕事早く終わったからジンズでメガネ作ってきた 福袋使ったから薄くして9000円!楽しみだな  "
        ],
        [
         "12",
         "'jinsメガネのcm女優は織田梨沙さん。', '次々に変わる場所でメガネを語る ', '', ' "
        ],
        [
         "13",
         "'jinsでうぉぬのとはちょっと違う形のだけど買わせていただきました ', '', '1.76世界最高屈折率※両面非球面レンズにすることで目が小さくなる現象マシになることを信じて 11000円出してきた '"
        ],
        [
         "14",
         "'こちらが愛用していた眼鏡。好き過ぎてパッケージまでとってあった。jinsがmtとコラボしててツルの内側の柄が可愛かった ', '外観はクリアブルーでした。 "
        ],
        [
         "15",
         "'眼鏡の壊れた耳のせるとこの部分無料交換だった、サンキューjins'"
        ],
        [
         "16",
         "'ジンズで作った夜間運転用のメガネ、めっちゃ世界が変わるな。遠くまでバッチリくっきりだし対向車のライトも眩しくない。ドライブナイトレンズはマジおすすめ。 "
        ],
        [
         "17",
         "'昨日、jinsでメガネ買ったんだけど、', 'レンズどうしますかとなってブルーライトありますよと。', 'もちろんいらないから断ったんだけど、日本眼科医会がブルーライトカットメガネは効果ありませんと言っているのに、勧めたりするのすごいなーって思った感想です。'"
        ],
        [
         "18",
         "'毎年恒例jinsの福袋でメガネ買いました 流行りの中顔面短縮してくれるメガネでとても気に入りました あとくもり止め良いヨ', '#今日のメイクはちゃちゃっと裸眼(クリアコンタクト)メイク。メガネに似合わせるメイクも研究したいなぁー!!  "
        ],
        [
         "19",
         "'やっとjinsに行けてウォヌの眼鏡買えた'"
        ],
        [
         "20",
         "'jinsでウォヌみっけ!!#jinswithwonwoo  "
        ],
        [
         "21",
         "'', '┐', '○□=', '', 'へんじがない', 'ただのしかばねのようだ', '', 'ちかくになにかかいてある', '', '「オ李ジンズはやばい命が散る」'"
        ],
        [
         "22",
         "'手元が見にくくて、急遽メガネのサイト見てるけど、四日市駅前にあったjinsなくなってますやん。', 'メガネ屋さんも競争はげしいのかな?( ́(ェ)`)'"
        ],
        [
         "23",
         "'刀剣乱舞関連商品を多数紹介中!\\u3000pr', '', '商品名:刀剣乱舞\\u3000大倶利伽羅\\u3000jinsコラボメガネ', '', '販売価格: 17000円', '', ' "
        ],
        [
         "24",
         "'jinsで眼鏡買ってきました ', '', 'ど素人丸出しで', 'この眼鏡ってレンズ入れて視力検査したら幾らぐらいですか?すぐ出来ますか?', '', 'とか聞いたら', ' 「このメガネに貼ってある値段で、時間は30分程度です」', '', 'えっ!? ', '6600円!?やすっ!はやっ!', '', '井\\u3000結局13900円', '井\\u3000でも安い', '井\\u3000眼鏡疲れるから外した "
        ],
        [
         "25",
         "'眼鏡の鼻のとこがポキっと折れたので渋谷のjinsに来たら測定まで2時間でそこから更になんだかんだ1時間かかるって。', '外国人観光客多すぎてもうなんだかすごいことになっている。', '気に入ったの無いから修理したいけど2ヶ月かかるとか...'"
        ],
        [
         "26",
         "'あとシンプルに似合うメガネが圧倒的に少ないことが発覚して悲しいwww', 'メガネ屋2店舗行って、どれ掛けても「なんか違う」って言われまくったwww', '何本もかけて、「それ似合う!」って言ってもらえたのエルサモデルだけだった', ' "
        ],
        [
         "27",
         "'jinsからポストカード案内メールがまだ届かない '"
        ],
        [
         "28",
         "'jinsのコンタクトってどうなんだろ?', '試してみるかな...  "
        ],
        [
         "29",
         "'jinsで作った眼鏡、とても褒められるから最近いつもかけてる  "
        ],
        [
         "30",
         "'昨日jins福袋使って眼鏡getしてきた(-⊡ω⊡)ゞクイッ', '今と同じような系統のやつやから、違いに気づいてくれる人はなかなかあたしのこと好きやと思う( ≖͈́·̫̮≖͈̀)ニヤァ', '', '帰りにセブンイレブンでちいかわのよっちゃんイカも買ったんだーフンフン(・ω・三・ω・)フンフン'"
        ],
        [
         "31",
         "'jinsウォヌで助かった命がここにある'"
        ],
        [
         "32",
         "'顔幅が160mmあるせいでjinsとかの安価な眼鏡フレームは全滅なのだ'"
        ],
        [
         "33",
         "'今までは地元の行きつけ眼科の', '隣のメガネ屋さんでメガネを特注していた', '', '斜視手術をしてiclかレーシック手術をするか', ' ︎脱メガネになるか', '', '斜視手術をしてメガネは継続か', ' ︎一般的なメガネ屋さんで作れるようになる', '', 'jinsに聞いたけどやはりプリズム入りの', 'メガネは作れない。と言われて迷い'"
        ],
        [
         "34",
         "'jins店舗のウォヌさん!メガネをかけたウォヌさんが好きなので、ウォヌさんと一緒のjinsもいい。', '', '#wonwoo @jins_pr #jinswithwonwoo  "
        ],
        [
         "35",
         "'jinsでメガネを新調しようと思ったけど私の愛用のフレームがどうやら廃盤になってしまったので別のメガネ屋を検討するタイミングのようだ。'"
        ],
        [
         "36",
         "'先日購入してきた眼鏡 ', 'jinsのケアベアコラボ商品', 'トレイにもなる眼鏡ケースとかわいいメガネ拭きがついている。', '軽くて柔らかくて顔にフィットするから付け心地も良い  "
        ],
        [
         "37",
         "'jinsオンラインでメガネを発注したけど、10日前の注文で未だに「注文を承りました」のまま動きがない。', 'jins、倒産隠蔽でもされてるのかな?', '', '何かが遅れてるのなら、それなりに連絡をくれればいいのだけども。'"
        ],
        [
         "38",
         "'昨日のうぉぬさん、さてはjinsメガネ...!!️'"
        ],
        [
         "39",
         "'メガネかけろよ...今な、jinsとかzoffって安く良い眼鏡屋さんが有るから早目に眼鏡屋さんに行くとよく見えるぞ。 "
        ],
        [
         "40",
         "'jinsアプリの登録必要みたいだけど、スマホの容量無さすぎてアップデートもできないくらいでアプリダウンロードするにもきついし他のメガネ探すか ', 'メガネ買うのも不便になったもんだ ', 'フレームだけ買って他のメガネ屋さんでレンズ交換してもらうとかかな悩む'"
        ],
        [
         "41",
         "'お出かけ先で発見 ', '近くのjinsにはなかったから嬉しいー  "
        ],
        [
         "42",
         "'てか、jinsの店員さんみんな丁寧で素敵だったなー'"
        ],
        [
         "43",
         "'昨日jinsでメガネ買い替えたのだが、', '案内してくれた子が岩本蓮加ちゃん似で視力検査してくれた子は高橋文哉くん似だった', '他の店員さんも皆イケメンも美人さんばかりだったな'"
        ],
        [
         "44",
         "'ディズニー関連グッズを多数紹介中!\\u3000pr', '', '商品名: jins花粉眼鏡', '', '販売価格: 2660円', '', ' "
        ],
        [
         "45",
         "'jinsのメガネ壊れたんだが!!', 'ちゃんとミキ行きゃ良かった!'"
        ],
        [
         "46",
         "'メルカリに出品されている福袋関連商品を多数紹介中!pr', '', '商品名: jins (9900円分券)\\u3000ジンズ\\u3000福袋', '', '販売価格: 8300円', '', ' "
        ],
        [
         "47",
         "'眼鏡を新調したいけど、せっかくならjinsのポケモンのがいいなぁと思って第3弾待ってるんだけど来なくて悲しい'"
        ],
        [
         "48",
         "'jinsで入れた1万円程度の1.76(両面非球面)と金子眼鏡で入れた6万円程度の1.74(セミオーダー)を比べても後者の方が歪みが少ないという(レンズ幅も関係はするけれども)'"
        ],
        [
         "49",
         "'うわーメガネの!', 'つるのとこが折れた ', 'jinsのairframeなんだけど、つるのとこ弾性があってやわらかいし、保証書見たらなんと2020年に買ったらしいから、さすがに寿命かなぁ...新しいの買いに行くかー!  "
        ]
       ],
       "shape": {
        "columns": 1,
        "rows": 3161
       }
      },
      "text/html": [
       "<div>\n",
       "<style scoped>\n",
       "    .dataframe tbody tr th:only-of-type {\n",
       "        vertical-align: middle;\n",
       "    }\n",
       "\n",
       "    .dataframe tbody tr th {\n",
       "        vertical-align: top;\n",
       "    }\n",
       "\n",
       "    .dataframe thead th {\n",
       "        text-align: right;\n",
       "    }\n",
       "</style>\n",
       "<table border=\"1\" class=\"dataframe\">\n",
       "  <thead>\n",
       "    <tr style=\"text-align: right;\">\n",
       "      <th></th>\n",
       "      <th>text</th>\n",
       "    </tr>\n",
       "  </thead>\n",
       "  <tbody>\n",
       "    <tr>\n",
       "      <th>0</th>\n",
       "      <td>'昨日は山でメガネを失くし、今日は脚立登ってたら腰を痛めた。今メガネ買いにショッピングモール...</td>\n",
       "    </tr>\n",
       "    <tr>\n",
       "      <th>1</th>\n",
       "      <td>'フードコートで休憩すると向かいのjinsのチョンウォヌデカ広告を見ながらご飯食えていいのよね'</td>\n",
       "    </tr>\n",
       "    <tr>\n",
       "      <th>2</th>\n",
       "      <td>'入り口入ったらウォヌがお出迎え ウォヌを抜擢してくれたjinsさんお目が高い!!️#jin...</td>\n",
       "    </tr>\n",
       "    <tr>\n",
       "      <th>3</th>\n",
       "      <td>'眼鏡どこで作ろかな...', '', 'zoffかjinsくらいしかおもいうかばん'</td>\n",
       "    </tr>\n",
       "    <tr>\n",
       "      <th>4</th>\n",
       "      <td>'jinsは当日だったんだよ '</td>\n",
       "    </tr>\n",
       "    <tr>\n",
       "      <th>...</th>\n",
       "      <td>...</td>\n",
       "    </tr>\n",
       "    <tr>\n",
       "      <th>3156</th>\n",
       "      <td>'フレームだけ新古品2000円で買ってjinsでレンズ交換 ', 'メガネケース貰えるし標準...</td>\n",
       "    </tr>\n",
       "    <tr>\n",
       "      <th>3157</th>\n",
       "      <td>'#マスクをしたらレンズが曇っちゃうを選んだあなたには、くもり止めレンズ搭載のjins pr...</td>\n",
       "    </tr>\n",
       "    <tr>\n",
       "      <th>3158</th>\n",
       "      <td>'わたしはメガネを#4本以上持っています    #jins #持っているメガネの本数あなたが...</td>\n",
       "    </tr>\n",
       "    <tr>\n",
       "      <th>3159</th>\n",
       "      <td>'#どうしても隙間から花粉が入ってくると思っているあなたには、花粉を99%カットしてくれるj...</td>\n",
       "    </tr>\n",
       "    <tr>\n",
       "      <th>3160</th>\n",
       "      <td>'今日早く仕事終わったらjins行く!'</td>\n",
       "    </tr>\n",
       "  </tbody>\n",
       "</table>\n",
       "<p>3161 rows × 1 columns</p>\n",
       "</div>"
      ],
      "text/plain": [
       "                                                   text\n",
       "0     '昨日は山でメガネを失くし、今日は脚立登ってたら腰を痛めた。今メガネ買いにショッピングモール...\n",
       "1      'フードコートで休憩すると向かいのjinsのチョンウォヌデカ広告を見ながらご飯食えていいのよね'\n",
       "2     '入り口入ったらウォヌがお出迎え ウォヌを抜擢してくれたjinsさんお目が高い!!️#jin...\n",
       "3           '眼鏡どこで作ろかな...', '', 'zoffかjinsくらいしかおもいうかばん'\n",
       "4                                      'jinsは当日だったんだよ '\n",
       "...                                                 ...\n",
       "3156  'フレームだけ新古品2000円で買ってjinsでレンズ交換 ', 'メガネケース貰えるし標準...\n",
       "3157  '#マスクをしたらレンズが曇っちゃうを選んだあなたには、くもり止めレンズ搭載のjins pr...\n",
       "3158  'わたしはメガネを#4本以上持っています    #jins #持っているメガネの本数あなたが...\n",
       "3159  '#どうしても隙間から花粉が入ってくると思っているあなたには、花粉を99%カットしてくれるj...\n",
       "3160                               '今日早く仕事終わったらjins行く!'\n",
       "\n",
       "[3161 rows x 1 columns]"
      ]
     },
     "execution_count": 2,
     "metadata": {},
     "output_type": "execute_result"
    }
   ],
   "source": [
    "df_tweet1 = pd.read_csv('csv_data/20250127_tweet_data.csv')\n",
    "df_tweet1['text'] = df_tweet1['text'].str.removeprefix('[').str.removesuffix(']')\n",
    "df_tweet2 = pd.read_csv('csv_data/20250304_tweet_data.csv')\n",
    "df_tweet2['text'] = df_tweet2['text'].str.removeprefix('[').str.removesuffix(']')\n",
    "df_tweet = pd.concat([df_tweet1, df_tweet2]).reset_index(drop=True)\n",
    "df_tweet = df_tweet[['text']]\n",
    "df_tweet = normalization_string(df_tweet, 'text')\n",
    "df_tweet"
   ]
  },
  {
   "cell_type": "code",
   "execution_count": 3,
   "metadata": {},
   "outputs": [],
   "source": [
    "stop_word = create_stop_word(df_tweet, 'text', 10)"
   ]
  },
  {
   "cell_type": "code",
   "execution_count": 4,
   "metadata": {},
   "outputs": [
    {
     "name": "stdout",
     "output_type": "stream",
     "text": [
      "学習回数：0\n",
      "誤差：49.14876361041979\n",
      "\n",
      "学習回数：100\n",
      "誤差：0.0454396729912595\n",
      "\n",
      "学習回数：200\n",
      "誤差：0.0002860045667285396\n",
      "\n",
      "学習回数：300\n",
      "誤差：1.7391808895216745e-05\n",
      "\n",
      "学習回数：400\n",
      "誤差：0.0011009952531583537\n",
      "\n",
      "topic of EM algorithm: finished\n"
     ]
    }
   ],
   "source": [
    "model = LDA_In_EM(df_tweet, stop_word=stop_word, topic_num=5)\n",
    "model.fit()\n",
    "\n",
    "print(f'topic of EM algorithm: finished')"
   ]
  },
  {
   "cell_type": "code",
   "execution_count": 5,
   "metadata": {},
   "outputs": [],
   "source": [
    "pd_θ, pd_Φ = model.stats_info()\n",
    "pd_θ.to_parquet('./parquet_data/20250227_tweet_EM_θ.parquet')\n",
    "pd_Φ.to_parquet('./parquet_data/20250227_tweet_EM_Φ.parquet')"
   ]
  },
  {
   "cell_type": "code",
   "execution_count": 6,
   "metadata": {},
   "outputs": [
    {
     "name": "stdout",
     "output_type": "stream",
     "text": [
      "学習回数：0\n",
      "誤差：33251.98343105744\n",
      "\n",
      "topic of Variational Bayes algorithm: finished\n"
     ]
    }
   ],
   "source": [
    "model = LDA_In_VB(df_tweet, stop_word=stop_word, topic_num=5)\n",
    "model.fit()\n",
    "\n",
    "print(f'topic of Variational Bayes algorithm: finished')"
   ]
  },
  {
   "cell_type": "code",
   "execution_count": 7,
   "metadata": {},
   "outputs": [],
   "source": [
    "pd_θ, pd_Φ = model.stats_info()\n",
    "pd_θ.to_parquet('./parquet_data/20250227_tweet_VB_θ.parquet')\n",
    "pd_Φ.to_parquet('./parquet_data/20250227_tweet_VB_Φ.parquet')"
   ]
  },
  {
   "cell_type": "code",
   "execution_count": 8,
   "metadata": {},
   "outputs": [
    {
     "name": "stdout",
     "output_type": "stream",
     "text": [
      "学習回数：0\n",
      "誤差：157.8551840868596\n",
      "\n",
      "学習回数：100\n",
      "誤差：0.13832962842385\n",
      "\n",
      "学習回数：200\n",
      "誤差：0.06772576116434093\n",
      "\n",
      "学習回数：300\n",
      "誤差：0.13883202381290605\n",
      "\n",
      "学習回数：400\n",
      "誤差：0.1078949175017273\n",
      "\n",
      "topic of Variational Bayes algorithm: finished\n"
     ]
    }
   ],
   "source": [
    "model = LDA_In_CGS(df_tweet, stop_word=stop_word, topic_num=5)\n",
    "model.fit()\n",
    "\n",
    "print(f'topic of Variational Bayes algorithm: finished')"
   ]
  },
  {
   "cell_type": "code",
   "execution_count": 9,
   "metadata": {},
   "outputs": [],
   "source": [
    "pd_θ, pd_Φ = model.stats_info()\n",
    "pd_θ.to_parquet('./parquet_data/20250227_tweet_CGS_θ.parquet')\n",
    "pd_Φ.to_parquet('./parquet_data/20250227_tweet_CGS_Φ.parquet')"
   ]
  }
 ],
 "metadata": {
  "kernelspec": {
   "display_name": "Python 3",
   "language": "python",
   "name": "python3"
  },
  "language_info": {
   "codemirror_mode": {
    "name": "ipython",
    "version": 3
   },
   "file_extension": ".py",
   "mimetype": "text/x-python",
   "name": "python",
   "nbconvert_exporter": "python",
   "pygments_lexer": "ipython3",
   "version": "3.13.1"
  }
 },
 "nbformat": 4,
 "nbformat_minor": 2
}
