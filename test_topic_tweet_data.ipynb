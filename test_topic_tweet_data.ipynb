{
 "cells": [
  {
   "cell_type": "code",
   "execution_count": 1,
   "metadata": {},
   "outputs": [],
   "source": [
    "%load_ext autoreload\n",
    "%autoreload 2\n",
    "\n",
    "import numpy as np\n",
    "import pandas as pd\n",
    "\n",
    "from Latent_Dirichlet_Allocation import LDA_In_EM, LDA_In_VB, LDA_In_CGS\n",
    "\n",
    "%matplotlib inline"
   ]
  },
  {
   "cell_type": "code",
   "execution_count": 2,
   "metadata": {},
   "outputs": [],
   "source": [
    "df_tweet1 = pd.read_csv('csv_data/20250127_tweet_data.csv')\n",
    "df_tweet1['text'] = df_tweet1['text'].str.removeprefix('[').str.removesuffix(']')\n",
    "df_tweet2 = pd.read_csv('csv_data/20250304_tweet_data.csv')\n",
    "df_tweet2['text'] = df_tweet2['text'].str.removeprefix('[').str.removesuffix(']')\n",
    "df_tweet = pd.concat([df_tweet1, df_tweet2])\n",
    "df_tweet = df_tweet[['text']]"
   ]
  },
  {
   "cell_type": "code",
   "execution_count": 3,
   "metadata": {},
   "outputs": [
    {
     "name": "stdout",
     "output_type": "stream",
     "text": [
      "学習回数：0\n",
      "誤差：27.922120509660246\n",
      "\n",
      "学習回数：100\n",
      "誤差：0.04610866252927099\n",
      "\n",
      "学習回数：200\n",
      "誤差：0.007153879247510612\n",
      "\n",
      "学習回数：300\n",
      "誤差：0.002396985589498327\n",
      "\n",
      "学習回数：400\n",
      "誤差：0.0016651422060146388\n",
      "\n",
      "学習回数：500\n",
      "誤差：0.005956403938407866\n",
      "\n",
      "学習回数：600\n",
      "誤差：0.0015481690131548286\n",
      "\n",
      "学習回数：700\n",
      "誤差：0.0002816789016040477\n",
      "\n",
      "学習回数：800\n",
      "誤差：0.0021956123765277534\n",
      "\n",
      "学習回数：900\n",
      "誤差：0.00018556167572892745\n",
      "\n",
      "学習回数：1000\n",
      "誤差：1.9493889403865397e-05\n",
      "\n",
      "topic of EM algorithm: finished\n"
     ]
    }
   ],
   "source": [
    "model = LDA_In_EM(df_tweet, topic_num=5)\n",
    "model.fit()\n",
    "\n",
    "print(f'topic of EM algorithm: finished')"
   ]
  },
  {
   "cell_type": "code",
   "execution_count": 4,
   "metadata": {},
   "outputs": [],
   "source": [
    "pd_θ, pd_Φ = model.stats_info()\n",
    "pd_θ.to_parquet('./parquet_data/20250227_tweet_EM_θ.parquet')\n",
    "pd_Φ.to_parquet('./parquet_data/20250227_tweet_EM_Φ.parquet')"
   ]
  },
  {
   "cell_type": "code",
   "execution_count": 5,
   "metadata": {},
   "outputs": [
    {
     "name": "stdout",
     "output_type": "stream",
     "text": [
      "学習回数：0\n",
      "誤差：11414903.085392568\n",
      "\n",
      "学習回数：100\n",
      "誤差：0.5739364502793428\n",
      "\n",
      "学習回数：200\n",
      "誤差：0.0003462584444176637\n",
      "\n",
      "学習回数：300\n",
      "誤差：1.635346607871345e-05\n",
      "\n",
      "topic of Variational Bayes algorithm: finished\n"
     ]
    }
   ],
   "source": [
    "model = LDA_In_VB(df_tweet, topic_num=5)\n",
    "model.fit()\n",
    "\n",
    "print(f'topic of Variational Bayes algorithm: finished')"
   ]
  },
  {
   "cell_type": "code",
   "execution_count": 6,
   "metadata": {},
   "outputs": [],
   "source": [
    "pd_θ, pd_Φ = model.stats_info()\n",
    "pd_θ.to_parquet('./parquet_data/20250227_tweet_VB_θ.parquet')\n",
    "pd_Φ.to_parquet('./parquet_data/20250227_tweet_VB_Φ.parquet')"
   ]
  },
  {
   "cell_type": "code",
   "execution_count": 7,
   "metadata": {},
   "outputs": [
    {
     "name": "stdout",
     "output_type": "stream",
     "text": [
      "学習回数：0\n",
      "誤差：37.76360951274936\n",
      "\n",
      "学習回数：100\n",
      "誤差：0.005250652509468101\n",
      "\n",
      "学習回数：200\n",
      "誤差：0.0069563954882074786\n",
      "\n",
      "学習回数：300\n",
      "誤差：0.004763722074609178\n",
      "\n",
      "学習回数：400\n",
      "誤差：0.002951958527346532\n",
      "\n",
      "学習回数：500\n",
      "誤差：0.003359494766126736\n",
      "\n",
      "学習回数：600\n",
      "誤差：0.002585199144435779\n",
      "\n",
      "学習回数：700\n",
      "誤差：0.001173739007125918\n",
      "\n",
      "学習回数：800\n",
      "誤差：0.0023429579125746613\n",
      "\n",
      "学習回数：900\n",
      "誤差：0.006292173329890738\n",
      "\n",
      "topic of Variational Bayes algorithm: finished\n"
     ]
    }
   ],
   "source": [
    "model = LDA_In_CGS(df_tweet, topic_num=5)\n",
    "model.fit()\n",
    "\n",
    "print(f'topic of Variational Bayes algorithm: finished')"
   ]
  },
  {
   "cell_type": "code",
   "execution_count": 8,
   "metadata": {},
   "outputs": [],
   "source": [
    "pd_θ, pd_Φ = model.stats_info()\n",
    "pd_θ.to_parquet('./parquet_data/20250227_tweet_CGS_θ.parquet')\n",
    "pd_Φ.to_parquet('./parquet_data/20250227_tweet_CGS_Φ.parquet')"
   ]
  },
  {
   "cell_type": "code",
   "execution_count": null,
   "metadata": {},
   "outputs": [],
   "source": []
  }
 ],
 "metadata": {
  "kernelspec": {
   "display_name": "Python 3",
   "language": "python",
   "name": "python3"
  },
  "language_info": {
   "codemirror_mode": {
    "name": "ipython",
    "version": 3
   },
   "file_extension": ".py",
   "mimetype": "text/x-python",
   "name": "python",
   "nbconvert_exporter": "python",
   "pygments_lexer": "ipython3",
   "version": "3.13.1"
  }
 },
 "nbformat": 4,
 "nbformat_minor": 2
}
