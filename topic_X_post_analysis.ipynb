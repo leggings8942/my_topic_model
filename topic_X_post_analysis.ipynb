{
 "cells": [
  {
   "cell_type": "code",
   "execution_count": null,
   "metadata": {},
   "outputs": [],
   "source": [
    "%load_ext autoreload\n",
    "%autoreload 2\n",
    "\n",
    "import re\n",
    "import json\n",
    "import numpy as np\n",
    "import pandas as pd\n",
    "from tqdm.notebook import tqdm\n",
    "\n",
    "import torch\n",
    "from transformers import pipeline\n",
    "from transformers import AutoTokenizer, AutoModelForSequenceClassification\n",
    "\n",
    "%matplotlib inline"
   ]
  },
  {
   "cell_type": "code",
   "execution_count": 2,
   "metadata": {},
   "outputs": [
    {
     "data": {
      "application/vnd.microsoft.datawrangler.viewer.v0+json": {
       "columns": [
        {
         "name": "index",
         "rawType": "int64",
         "type": "integer"
        },
        {
         "name": "created_at",
         "rawType": "object",
         "type": "string"
        },
        {
         "name": "text",
         "rawType": "object",
         "type": "string"
        }
       ],
       "conversionMethod": "pd.DataFrame",
       "ref": "66616d58-d188-4d2e-82a4-6315ee3bead2",
       "rows": [
        [
         "0",
         "2025-01-20 18:01:41+09:00",
         "'jinsの目が小さくなりにくい眼鏡ってどんな度数でも意味あるのかな'"
        ],
        [
         "1",
         "2025-01-20 18:09:05+09:00",
         "'in有楽町jins:sparkles:', 'jinsウォヌ好きすぎて辛い:smiling_face_with_halo::smiling_face_with_halo::smiling_face_with_halo:', 'jinsさま、非公開ショットいっぱいありますよね?!', '一緒に見ましょう?!', '見せてくれること信じて待ってます:face_holding_back_tears::folded_hands_medium-light_skin_tone::folded_hands_medium-light_skin_tone::folded_hands_medium-light_skin_tone:', '', '#jinswithwonwoo  "
        ],
        [
         "2",
         "2025-01-20 18:09:37+09:00",
         "'jins「ラバー外してみたらこのように内部の痛みがひどく...」', '私(さすがに買い替え勧められるレベルか...)', 'jins「...慎重に作業したいので30分ください!」', '私「お、お願いします...?」', '', '7年愛用したお気に入りの眼鏡、ピカピカになって戻ってきたjinsさんありがとう好き好き "
        ],
        [
         "3",
         "2025-01-20 18:16:48+09:00",
         "'「ジンズ」がロサンゼルスに新店をオープン\\u3000デジタルを活用し新たな顧客体験を提供\\u3000', ':backhand_index_pointing_down:詳細は以下から:backhand_index_pointing_down:', ' "
        ],
        [
         "4",
         "2025-01-20 18:22:49+09:00",
         "'少し前のヘラルボニーのイベントで、jinsの田中社長がパネルディスカッションのパネリストや聴衆に向かって「盛岡はどんな街を目指しているのですか?」と問いかけていたが、自分にとっては、盛岡は「自然や歴史と現代が共存しながら気持ち良く住み続けられる街」であってほしい。'"
        ],
        [
         "5",
         "2025-01-20 18:30:00+09:00",
         "'ジンズホールディングス、ロサンゼルスにデジタル活用の実験店を開設\\u3000山火事の被災地支援も', '   "
        ],
        [
         "6",
         "2025-01-20 18:35:11+09:00",
         "'んjinsイオンで買ったら5%オフかなって思ったけど20パー引きのクーポンしか反映されてないっぽいなー', 'jins側で割引からのイオン側で割引になるかと思ったけどー', 'まあー仕方ないー'"
        ],
        [
         "7",
         "2025-01-20 18:35:53+09:00",
         "'同じメガネ色違い買い増し、メガネ買いますからの3分で買えちゃった', '楽でいいねjins'"
        ],
        [
         "8",
         "2025-01-20 18:37:00+09:00",
         "'ぜったいセノバのjins二度と行かない'"
        ],
        [
         "9",
         "2025-01-20 18:58:14+09:00",
         "'メガネの調整をしてもらいにjinsへ。きれいにもなってすごく視界がクリア。'"
        ],
        [
         "10",
         "2025-01-20 19:00:36+09:00",
         "'jinsの店員さんかっこいい声こういう声が良かった'"
        ],
        [
         "11",
         "2025-01-20 19:01:15+09:00",
         "'jinsのメールの件、迷惑メールのドメイン設定うんぬんで再送信不可ってそれが事実ならウォヌさんを起用してそれを楽しみにしてた消費者に対してあまりに不誠実だしこの19150名の多数が特典を受け取れずメガネを買った事実だけ残るのモヤモヤするよなぁ...買った履歴遡ってそこの住所に送るとかできぬ?    "
        ],
        [
         "12",
         "2025-01-20 19:02:56+09:00",
         "'jinsは鼻パッド交換が無料、シリコンだと220円で済むので助かる。', 'ちなみにレンズ交換だと最低で6600円で交換出来るみたい。', '圧縮するとお金かかるけど。', '鼻パッド交換も入れたら安く済むなぁ。', '交換するか!'"
        ],
        [
         "13",
         "2025-01-20 19:11:46+09:00",
         "'【信用倍率1.2倍以下】+α魅力株', '', 'アドバンテスト\\u3000shift\\u3000古河電工', 'recruit\\u3000kddi\\u3000sansan\\u3000カバー', 'ニプロ\\u3000コナミ\\u3000サンリオ', 'リゾートトラスト\\u3000クリレス', '清水建設\\u3000大和ハウス\\u3000長谷工\\u3000三和h\\u3000asics\\u3000良品計画', 'ジンズ\\u3000ビックカメラ', '(クラレ東レuniqlo)', '', 'どうだろ?', 'いつ買うかが課題です:sweat_droplets:'"
        ],
        [
         "14",
         "2025-01-20 19:12:03+09:00",
         "'久しぶりにjins行ったんだけどちょっと驚いたぜ', '1視力検査無し。今のメガネの度数調べるだけ', '2ほとんどのフレームで度付きサングラス作れる', 'サングラスは好きじゃないけど来月サングラスが必要そうな企画が有るので買ったった:thumbs_up:'"
        ],
        [
         "15",
         "2025-01-20 19:18:10+09:00",
         "'まーなにはともあれjinsで誕生日クーポン使ってメガネ注文できたのでヨシ'"
        ],
        [
         "16",
         "2025-01-20 19:23:16+09:00",
         "'真空ジェシカの#ラジ父はpodcastながら眼鏡メーカーjinsさんに加えて日新火災さんのスポンサーコーナーが始まるなど頑張ってるよ!!(そしてまだラジオクラウドも生きてるのに気付いた!! #ss954 ', '', '   "
        ],
        [
         "17",
         "2025-01-20 19:23:39+09:00",
         "'hmvの向かいにjinsは罪 "
        ],
        [
         "18",
         "2025-01-20 19:28:15+09:00",
         "'【jins presents #ラジ父大喜利:glasses:】', '', '今週のお題は...', '『調子こいてる双子の大家さん、どんなの?』', '', '読まれた人全員に「オリジナル韻豆メガネ拭き」をプレゼント!さらに、毎週一人にamazonギフトカード3000円分ゲットのチャンス!! ', '', '件名:大喜利', '宛先:titi@tbs.co.jp  "
        ],
        [
         "19",
         "2025-01-20 19:30:29+09:00",
         "'今日書いたブログです。', '', 'jinsのヒンジレスメガネを、3dプリンターで修理した', '#emptyhouseblog', ' "
        ],
        [
         "20",
         "2025-01-20 19:50:10+09:00",
         "'jinsエアフレームは転倒しても壊れなかった、助かる'"
        ],
        [
         "21",
         "2025-01-20 19:52:24+09:00",
         "'jinsカラコン4色をその日の気分で使ってます:smiling_face:', '', '  "
        ],
        [
         "22",
         "2025-01-20 19:57:17+09:00",
         "'メガネ変えました:nerd_face:', 'jinsの無敵コーティング付けた!', '効果は未知数 "
        ],
        [
         "23",
         "2025-01-20 20:00:08+09:00",
         "'jinsさん、せっかくアプリ登録したんだからアプリの中で購入履歴とか住所把握とかしてくれれば良かったのになあ...通知見て送付先登録とか......'"
        ],
        [
         "24",
         "2025-01-20 20:09:54+09:00",
         "'今度はこれ買うかな', '', '目が小さくならないメガネ(強度近視用眼鏡) | jins -眼鏡(メガネ・めがね)  "
        ],
        [
         "25",
         "2025-01-20 20:20:13+09:00",
         "'一番最近作ったメガネだとテレビのテロップが見えなくなったので', '#jinsで新調', '', 'テレビが見たいという', 'シンプルな仕様なので', 'レンズのオプションは最低限(\\0)', 'm(_ _)m', '', '税込み\\6600', '', 'おかげで快適に鑑賞中', '', '次回は度数が合わなくなった高いフレームのレンズ交換する予定'"
        ],
        [
         "26",
         "2025-01-20 20:26:45+09:00",
         "'メガネみたいに、決して安くなくて、コンサルティングが必要な商品で、アイドルを使ったプロモーションはよく考えてからにしてほしいな。店混みまくりで、店員2人しかいなくて全然まわってなくて、コンビニでコーヒー買うみたいな接客になってた。', '', ' #jinswithwonwoo  "
        ],
        [
         "27",
         "2025-01-20 20:26:52+09:00",
         "'今のメガネ買って1年だけど1年間でさらに視力落ちすぎて新しいの買うかレンズ交換するか迷ってる。jinsだから新しいの買ってもそんなに値段に差ないし。'"
        ],
        [
         "28",
         "2025-01-20 20:33:54+09:00",
         "'jinsに眼鏡の調整にきた。ついでにスタバで書くつもりだったのだけど、うっかり子供らと切り紙で遊んでしまったので、用を済ませたら家で書くか、仕事前倒しする......仕事やるにしても原稿に目は通したい。明日スッと書けるように。'"
        ],
        [
         "29",
         "2025-01-20 20:38:29+09:00",
         "'jinsの待ち受けのやつ、投稿してからどれくらいで来るんだ?', '投稿して4日経ってるけどまだ来ない...', 'キャンペーン詳細ちゃんと確認したけど間違ってないはず...'"
        ],
        [
         "30",
         "2025-01-20 20:49:51+09:00",
         "'ところでjinsからメールまだ来てないな'"
        ],
        [
         "31",
         "2025-01-20 20:52:12+09:00",
         "'無性に眼鏡がほしいので、ジンズの中顔面短縮でバズったあの眼鏡を今月買う。'"
        ],
        [
         "32",
         "2025-01-20 21:21:45+09:00",
         "'jinsからのメールが迷惑メールフォルダに入って見ることができない=ウォヌのポスカがもらえない、のは本当に気の毒だとは思うけど、ドメイン設定について注意喚起は事前にあった訳だし、jins側に落ち度は全くない訳で', '起用してくれた企業をボロクソに言うのはやめてくれまじで'"
        ],
        [
         "33",
         "2025-01-20 21:22:52+09:00",
         "'ジンズ\\u3000\\u3000ロサンゼルスに新店オープン\\u3000', '', 'デジタルを活用し新たな顧客体験を提供\\u3000', '', ' "
        ],
        [
         "34",
         "2025-01-20 21:26:44+09:00",
         "'安い買い物じゃないし、ポスカのためにわざわざ買ってるんだろうから悲しい悔しいのはものすごく理解できる', 'でもjins側は何も悪くない', '攻撃的な問い合わせはやめて欲しい', '面倒くさいファンダムだと思われてこの先起用してくれる企業いなくなるなんてことも起きなくはない'"
        ],
        [
         "35",
         "2025-01-20 21:32:41+09:00",
         "'そしてメガネもちゃんと買いましたよ!ジンズで大好きなケアベア( ́(ェ)`)のコラボメガネがあったので秒速で決めた!!!2つのデザインのを買ったよ!!!付属のクロスとケースも可愛くて嬉しい\\u0001fa77\\u0001fa77\\u0001fa77', 'アプリのくーぽんで安くなったよ:nerd_face::sparkles::sparkles:ジンズは前橋の会社なんだよね\\u0001fa77  "
        ],
        [
         "36",
         "2025-01-20 21:36:57+09:00",
         "'jinsさん今後の対応まだ検討中かなー', '私の場合は受信設定していたけど迷惑メールに振り分けされたau民なのよー', 'そんで昨日のカラーレンズのメールはちゃんと届いているのよーどうなるかなー'"
        ],
        [
         "37",
         "2025-01-20 21:37:00+09:00",
         "'しごとおわったー明日は休みーいつも通りゲームしまっせー!!', '平日休みに出かける気ならんのよね...', '2本目のメガネ出来てるから取りに行かなあかんけどめんどい:smiling_face_with_halo:', 'jins預かっててね:smiling_face_with_halo:'"
        ],
        [
         "38",
         "2025-01-20 21:49:58+09:00",
         "'年末年始死んでて載せ忘れてた', '私のjinsウォヌ眼鏡はこちらでした:glasses:♡', '1番人気っぽいやつは私がかけると家庭教師にしか見えず断念。笑', '', '度入れると目がグリンピースになっちゃうから度なしでラベンダーのカラーレンズにしてみました:purple_heart: "
        ],
        [
         "39",
         "2025-01-20 21:56:38+09:00",
         "'jinsの紹介コードある方いませんか!??お願いします:person_bowing:'"
        ],
        [
         "40",
         "2025-01-20 22:01:08+09:00",
         "'真空のjinsコラボマジで良いよな、、、、今はもうこういうのやらなそうだけど(泣)'"
        ],
        [
         "41",
         "2025-01-20 22:11:47+09:00",
         "'pr', 'jins (ジンズ)は、【ハピタス】を経由すると、', '【2.8%】が還元される', '', 'さらに、プロフの友達紹介のリンクから登録すると', '【1,500円】もプレゼント:wrapped_gift:(※条件達成)', '', 'ポイント活用の節約術で無料スタートしよう', '', 'ネットでお小遣い期間限定ポイント報酬ゲット'"
        ],
        [
         "42",
         "2025-01-20 22:13:56+09:00",
         "'無断アップロードが流れてきたので敢えての公式ポストをrpするんだけども、本当にこの真空ジェシカのjinsコラボのスタイリング天才すぎて大好き'"
        ],
        [
         "43",
         "2025-01-20 22:31:37+09:00",
         "'今日jinsで新しいお出かけ用メガネ買った:smiling_face_with_halo:', '可視光調光レンズにしたけ実質度入りサングラス:smiling_face_with_sunglasses:', 'むちゅめに触られんように大事に使お:face_holding_back_tears:'"
        ],
        [
         "44",
         "2025-01-20 22:32:41+09:00",
         "'地元でこんなデカいウォヌ初めて見た:heart_exclamation:ありがとうjins:glasses::heart_exclamation:', '', '#jinswithwonwoo  "
        ],
        [
         "45",
         "2025-01-20 22:42:27+09:00",
         "'#jinswithwonwoo ', '素敵なキャンペーンをありがとうございます:folded_hands::sparkles:', 'jins home快適です:glasses: "
        ],
        [
         "46",
         "2025-01-20 22:59:13+09:00",
         "'メガネもかな?', '新しく変えたいけど使ってるjinsで', 'なかなかいいの無い "
        ],
        [
         "47",
         "2025-01-20 23:19:17+09:00",
         "'やばいっす359oriジンズ'"
        ],
        [
         "48",
         "2025-01-20 23:23:05+09:00",
         "'最近街の方に出来たjins(メガネ屋)ですっごい好みのフレームが売ってて、欲しいなぁなどと( ̆ω̆)', '', 'まぁ今付けてるメガネはまだまだ現役なんですけども...( ́ω`)'"
        ],
        [
         "49",
         "2025-01-20 23:24:51+09:00",
         "'なんで今さらjinsのお洒落仕事がバズってるんだ', 'もしかして:売れてる'"
        ]
       ],
       "shape": {
        "columns": 2,
        "rows": 2696
       }
      },
      "text/html": [
       "<div>\n",
       "<style scoped>\n",
       "    .dataframe tbody tr th:only-of-type {\n",
       "        vertical-align: middle;\n",
       "    }\n",
       "\n",
       "    .dataframe tbody tr th {\n",
       "        vertical-align: top;\n",
       "    }\n",
       "\n",
       "    .dataframe thead th {\n",
       "        text-align: right;\n",
       "    }\n",
       "</style>\n",
       "<table border=\"1\" class=\"dataframe\">\n",
       "  <thead>\n",
       "    <tr style=\"text-align: right;\">\n",
       "      <th></th>\n",
       "      <th>created_at</th>\n",
       "      <th>text</th>\n",
       "    </tr>\n",
       "  </thead>\n",
       "  <tbody>\n",
       "    <tr>\n",
       "      <th>0</th>\n",
       "      <td>2025-01-20 18:01:41+09:00</td>\n",
       "      <td>'jinsの目が小さくなりにくい眼鏡ってどんな度数でも意味あるのかな'</td>\n",
       "    </tr>\n",
       "    <tr>\n",
       "      <th>1</th>\n",
       "      <td>2025-01-20 18:09:05+09:00</td>\n",
       "      <td>'in有楽町jins:sparkles:', 'jinsウォヌ好きすぎて辛い:smiling...</td>\n",
       "    </tr>\n",
       "    <tr>\n",
       "      <th>2</th>\n",
       "      <td>2025-01-20 18:09:37+09:00</td>\n",
       "      <td>'jins「ラバー外してみたらこのように内部の痛みがひどく...」', '私(さすがに買い替...</td>\n",
       "    </tr>\n",
       "    <tr>\n",
       "      <th>3</th>\n",
       "      <td>2025-01-20 18:16:48+09:00</td>\n",
       "      <td>'「ジンズ」がロサンゼルスに新店をオープン\\u3000デジタルを活用し新たな顧客体験を提供\\...</td>\n",
       "    </tr>\n",
       "    <tr>\n",
       "      <th>4</th>\n",
       "      <td>2025-01-20 18:22:49+09:00</td>\n",
       "      <td>'少し前のヘラルボニーのイベントで、jinsの田中社長がパネルディスカッションのパネリストや...</td>\n",
       "    </tr>\n",
       "    <tr>\n",
       "      <th>...</th>\n",
       "      <td>...</td>\n",
       "      <td>...</td>\n",
       "    </tr>\n",
       "    <tr>\n",
       "      <th>2691</th>\n",
       "      <td>2025-03-12 22:11:32+09:00</td>\n",
       "      <td>'てぃんと谷口さんメガネが一緒だと知り萌えましたjinsの「誰でも似合うメガネ」だそうです'</td>\n",
       "    </tr>\n",
       "    <tr>\n",
       "      <th>2692</th>\n",
       "      <td>2025-03-12 22:22:51+09:00</td>\n",
       "      <td>'ずっとjinsでしたが、もういい歳なのでちょいええメガネ買いました!さらに男前に!!なるは...</td>\n",
       "    </tr>\n",
       "    <tr>\n",
       "      <th>2693</th>\n",
       "      <td>2025-03-12 23:17:15+09:00</td>\n",
       "      <td>'久々にjins memeを発掘したけど充電器が行方不明'</td>\n",
       "    </tr>\n",
       "    <tr>\n",
       "      <th>2694</th>\n",
       "      <td>2025-03-12 23:27:37+09:00</td>\n",
       "      <td>'............jinsにドラパルトデザインの眼鏡発売されてた.........ブ...</td>\n",
       "    </tr>\n",
       "    <tr>\n",
       "      <th>2695</th>\n",
       "      <td>2025-03-12 23:27:53+09:00</td>\n",
       "      <td>'そろそろjinsのアンバサダーとかどうですか:nerd_face:</td>\n",
       "    </tr>\n",
       "  </tbody>\n",
       "</table>\n",
       "<p>2696 rows × 2 columns</p>\n",
       "</div>"
      ],
      "text/plain": [
       "                     created_at  \\\n",
       "0     2025-01-20 18:01:41+09:00   \n",
       "1     2025-01-20 18:09:05+09:00   \n",
       "2     2025-01-20 18:09:37+09:00   \n",
       "3     2025-01-20 18:16:48+09:00   \n",
       "4     2025-01-20 18:22:49+09:00   \n",
       "...                         ...   \n",
       "2691  2025-03-12 22:11:32+09:00   \n",
       "2692  2025-03-12 22:22:51+09:00   \n",
       "2693  2025-03-12 23:17:15+09:00   \n",
       "2694  2025-03-12 23:27:37+09:00   \n",
       "2695  2025-03-12 23:27:53+09:00   \n",
       "\n",
       "                                                   text  \n",
       "0                   'jinsの目が小さくなりにくい眼鏡ってどんな度数でも意味あるのかな'  \n",
       "1     'in有楽町jins:sparkles:', 'jinsウォヌ好きすぎて辛い:smiling...  \n",
       "2     'jins「ラバー外してみたらこのように内部の痛みがひどく...」', '私(さすがに買い替...  \n",
       "3     '「ジンズ」がロサンゼルスに新店をオープン\\u3000デジタルを活用し新たな顧客体験を提供\\...  \n",
       "4     '少し前のヘラルボニーのイベントで、jinsの田中社長がパネルディスカッションのパネリストや...  \n",
       "...                                                 ...  \n",
       "2691     'てぃんと谷口さんメガネが一緒だと知り萌えましたjinsの「誰でも似合うメガネ」だそうです'  \n",
       "2692  'ずっとjinsでしたが、もういい歳なのでちょいええメガネ買いました!さらに男前に!!なるは...  \n",
       "2693                      '久々にjins memeを発掘したけど充電器が行方不明'  \n",
       "2694  '............jinsにドラパルトデザインの眼鏡発売されてた.........ブ...  \n",
       "2695                'そろそろjinsのアンバサダーとかどうですか:nerd_face:   \n",
       "\n",
       "[2696 rows x 2 columns]"
      ]
     },
     "execution_count": 2,
     "metadata": {},
     "output_type": "execute_result"
    }
   ],
   "source": [
    "df_tweet1 = pd.read_csv('csv_data/20250127_tweet_data.csv')\n",
    "df_tweet1['text'] = df_tweet1['text'].str.removeprefix('[').str.removesuffix(']')\n",
    "df_tweet2 = pd.read_csv('csv_data/20250304_tweet_data.csv')\n",
    "df_tweet2['text'] = df_tweet2['text'].str.removeprefix('[').str.removesuffix(']')\n",
    "df_tweet3 = pd.read_csv('csv_data/20250313_tweet_data.csv')\n",
    "df_tweet3['text'] = df_tweet3['text'].str.removeprefix('[').str.removesuffix(']')\n",
    "df_tweet = pd.concat([df_tweet1, df_tweet2, df_tweet3]).reset_index(drop=True)\n",
    "df_tweet = df_tweet[['created_at', 'text']]\n",
    "df_tweet = normalization_string(df_tweet, 'text')\n",
    "df_tweet = df_tweet.drop_duplicates(subset='text', keep='first', ignore_index=True)\n",
    "df_tweet = df_tweet.sort_values(by='created_at', ascending=True, ignore_index=True)\n",
    "\n",
    "df_tweet.to_parquet('./parquet_share_data/20250313_X_post_normalized.parquet')\n",
    "df_tweet"
   ]
  },
  {
   "cell_type": "code",
   "execution_count": 3,
   "metadata": {},
   "outputs": [],
   "source": [
    "# 事前学習済みの日本語感情分析モデルとそのトークナイザをロード\n",
    "# 感情極性分析用\n",
    "model_name = 'christian-phu/bert-finetuned-japanese-sentiment'\n",
    "model_polarity = AutoModelForSequenceClassification.from_pretrained(model_name)\n",
    "tokenizer_polarity = AutoTokenizer.from_pretrained(model_name, model_max_length=512)\n",
    "\n",
    "# 感情詳細分析用\n",
    "model_name = 'patrickramos/bert-base-japanese-v2-wrime-fine-tune'\n",
    "model_emotional = AutoModelForSequenceClassification.from_pretrained(model_name)\n",
    "tokenizer_emotional = AutoTokenizer.from_pretrained(model_name, model_max_length=512)\n",
    "\n",
    "# 感情分析のためのパイプラインを設定\n",
    "# nlp = pipeline('sentiment-analysis', model=model_polarity, tokenizer=tokenizer_polarity, truncation=True)\n",
    "\n",
    "# 使用するデバイスの設定\n",
    "device = torch.device(\"mps\") if torch.backends.mps.is_available() else torch.device(\"cpu\")\n",
    "\n",
    "# モデルをデバイスに転送\n",
    "model_polarity  = model_polarity.to(device)\n",
    "model_emotional = model_emotional.to(device)"
   ]
  },
  {
   "cell_type": "code",
   "execution_count": 4,
   "metadata": {},
   "outputs": [
    {
     "data": {
      "application/vnd.jupyter.widget-view+json": {
       "model_id": "3bb05f9935cc4e27a623c12368954398",
       "version_major": 2,
       "version_minor": 0
      },
      "text/plain": [
       "  0%|          | 0/169 [00:00<?, ?it/s]"
      ]
     },
     "metadata": {},
     "output_type": "display_data"
    }
   ],
   "source": [
    "df_tweet  = pd.read_parquet('./parquet_share_data/20250313_X_post_normalized.parquet')\n",
    "documents = df_tweet['text'].tolist()\n",
    "\n",
    "res_class   = []\n",
    "batch_size  = 16\n",
    "for idx in tqdm(range(0, len(documents), batch_size)):\n",
    "\ttargets = documents[idx:idx+batch_size]\n",
    "    \n",
    "\tinputs  = tokenizer_polarity(targets, return_tensors='pt', padding=True, truncation=True, max_length=512)\n",
    "\tinputs  = {key: value.to(device) for key, value in inputs.items()}\n",
    "\toutputs = model_polarity(**inputs)\n",
    "\toutputs = torch.softmax(outputs.logits, dim=1)\n",
    "\toutputs = torch.argmax(outputs, dim=1)\n",
    "\tlabel   = outputs.tolist()\n",
    " \n",
    "\t# 0:negative, 1:neutral, 2:positive\n",
    "\tres_class.extend([model_polarity.config.id2label[elem] for elem in label])\n",
    "\t\n",
    "\n",
    "# 各文書の分類結果の保存\n",
    "df_tweet['emotional polarity'] = res_class\n",
    "df_tweet.to_parquet('./parquet_share_data/20250313_X_post_polarity.parquet')"
   ]
  },
  {
   "cell_type": "code",
   "execution_count": 5,
   "metadata": {},
   "outputs": [
    {
     "data": {
      "text/plain": [
       "['客観感情：喜び',\n",
       " '客観感情：悲しみ',\n",
       " '客観感情：期待',\n",
       " '客観感情：驚き',\n",
       " '客観感情：怒り',\n",
       " '客観感情：恐れ',\n",
       " '客観感情：嫌悪',\n",
       " '客観感情：信頼']"
      ]
     },
     "execution_count": 5,
     "metadata": {},
     "output_type": "execute_result"
    }
   ],
   "source": [
    "# sentiment_list = [label for label in model_emotional.config.id2label.values()]\n",
    "sentiment_list = [\n",
    "\t\t\t\t\t# '主観感情：喜び', '主観感情：悲しみ', '主観感情：期待', '主観感情：驚き', '主観感情：怒り', '主観感情：恐れ', '主観感情：嫌悪', '主観感情：信頼',\n",
    "\t\t\t\t\t'客観感情：喜び', '客観感情：悲しみ', '客観感情：期待', '客観感情：驚き', '客観感情：怒り', '客観感情：恐れ', '客観感情：嫌悪', '客観感情：信頼',\n",
    "\t\t\t\t]\n",
    "sentiment_list"
   ]
  },
  {
   "cell_type": "code",
   "execution_count": 7,
   "metadata": {},
   "outputs": [
    {
     "data": {
      "application/vnd.jupyter.widget-view+json": {
       "model_id": "2927a9762afa42e49ae42ab5d6c7106d",
       "version_major": 2,
       "version_minor": 0
      },
      "text/plain": [
       "  0%|          | 0/674 [00:00<?, ?it/s]"
      ]
     },
     "metadata": {},
     "output_type": "display_data"
    }
   ],
   "source": [
    "df_tweet  = pd.read_parquet('./parquet_share_data/20250313_X_post_polarity.parquet')\n",
    "documents = df_tweet['text'].tolist()\n",
    "\n",
    "output_size  = len(sentiment_list)\n",
    "res_class    = []\n",
    "res_strength = []\n",
    "batch_size   = 4\n",
    "for idx in tqdm(range(0, len(documents), batch_size)):\n",
    "\ttargets = documents[idx:idx+batch_size]\n",
    "    \n",
    "\tinputs   = tokenizer_emotional(targets, return_tensors='pt', padding=True, truncation=True, max_length=512)\n",
    "\tinputs   = {key: value.to(device) for key, value in inputs.items()}\n",
    "\toutputs  = model_emotional(**inputs)\n",
    "\toutputs  = torch.maximum(outputs.logits, torch.tensor(0))\n",
    "\toutputs  = torch.minimum(outputs,        torch.tensor(4))\n",
    "\tstrength = outputs[:, 8:8+output_size]\n",
    "\tresults  = [sentiment_list[idx] for idx in torch.argmax(strength, dim=1).tolist()]\n",
    "\tstrength = strength.tolist()\n",
    " \n",
    "\t# 0:writer_joy, 1:writer_sadness, 2:writer_anticipation, 3:writer_surprise, 4:writer_anger, 5:writer_fear, 6:writer_disgust, 7:writer_trust\n",
    "\tres_strength.extend(strength)\n",
    "\tres_class.extend(results)\n",
    "\t\n",
    "\n",
    "# 各文書の分類結果の保存\n",
    "df_tweet['classification'] = res_class\n",
    "for idx, label in enumerate(sentiment_list):\n",
    "    df_tweet[label] = [elem[idx] for elem in res_strength]\n",
    "\n",
    "df_tweet.to_parquet('./parquet_share_data/20250313_X_post_emotional_polarity.parquet')\n"
   ]
  },
  {
   "cell_type": "code",
   "execution_count": null,
   "metadata": {},
   "outputs": [],
   "source": []
  }
 ],
 "metadata": {
  "kernelspec": {
   "display_name": "Python 3",
   "language": "python",
   "name": "python3"
  },
  "language_info": {
   "codemirror_mode": {
    "name": "ipython",
    "version": 3
   },
   "file_extension": ".py",
   "mimetype": "text/x-python",
   "name": "python",
   "nbconvert_exporter": "python",
   "pygments_lexer": "ipython3",
   "version": "3.13.1"
  }
 },
 "nbformat": 4,
 "nbformat_minor": 2
}
