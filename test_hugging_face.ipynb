{
 "cells": [
  {
   "cell_type": "code",
   "execution_count": 1,
   "metadata": {},
   "outputs": [],
   "source": [
    "import re\n",
    "import pandas as pd\n",
    "\n",
    "import torch\n",
    "from transformers import AutoTokenizer, AutoModelForSequenceClassification\n"
   ]
  },
  {
   "cell_type": "code",
   "execution_count": 2,
   "metadata": {},
   "outputs": [],
   "source": [
    "# 事前学習済みの日本語感情分析モデルとそのトークナイザをロード\n",
    "# model_name = 'lxyuan/distilbert-base-multilingual-cased-sentiments-student'\n",
    "model_name = 'Mizuiro-sakura/luke-japanese-large-sentiment-analysis-wrime'\n",
    "model = AutoModelForSequenceClassification.from_pretrained(model_name)\n",
    "tokenizer = AutoTokenizer.from_pretrained(model_name, model_max_length=512)\n",
    "\n",
    "# 感情分析のためのパイプラインを設定\n",
    "# nlp = pipeline('sentiment-analysis', model=model, tokenizer=tokenizer, truncation=True)\n",
    "\n",
    "# 使用するデバイスの設定\n",
    "device = torch.device(\"mps\") if torch.backends.mps.is_available() else torch.device(\"cpu\")\n",
    "\n",
    "# モデルをデバイスに転送\n",
    "model = model.to(device)\n"
   ]
  },
  {
   "cell_type": "code",
   "execution_count": 3,
   "metadata": {},
   "outputs": [
    {
     "data": {
      "text/plain": [
       "['喜び', '悲しみ', '期待', '驚き', '怒り', '恐れ', '嫌悪', '信頼']"
      ]
     },
     "execution_count": 3,
     "metadata": {},
     "output_type": "execute_result"
    }
   ],
   "source": [
    "pd_Φ  = pd.read_parquet('./parquet_data/20250227_tweet_EM_Φ.parquet')\n",
    "words = [re.sub(r'単語\\d+:', '', elem) for elem in pd_Φ.columns]\n",
    "# sentiment_list = [label for label in model.config.id2label.values()]\n",
    "sentiment_list = ['喜び', '悲しみ', '期待', '驚き', '怒り', '恐れ', '嫌悪', '信頼']\n",
    "sentiment_list"
   ]
  },
  {
   "cell_type": "code",
   "execution_count": 4,
   "metadata": {},
   "outputs": [],
   "source": [
    "res_class  = []\n",
    "batch_size = 10\n",
    "for idx in range(0, len(words), batch_size):\n",
    "\ttargets = words[idx:idx+batch_size]\n",
    "    \n",
    "\tinputs  = tokenizer(targets, return_tensors='pt', padding=True, truncation=True, max_length=512)\n",
    "\tinputs  = {key: value.to(device) for key, value in inputs.items()}\n",
    "\toutputs = model(**inputs)\n",
    "\tlabel   = torch.argmax(torch.softmax(outputs.logits, dim=1), dim=1).tolist()\n",
    " \n",
    "\t# 1:negative, 2:neutral, 3:positive\n",
    "\tres     = [1 + elem for elem in label]\n",
    "\tres_class.extend(res)\n",
    "\n",
    "# 各単語の分類結果の保存\n",
    "pd_sentiment = pd.DataFrame(data=[[a,b] for a,b in zip(words, res_class)], columns=['word', 'sentiment'])\n",
    "pd_sentiment.to_parquet('./parquet_data/20250227_tweet_sentiment.parquet')\n",
    "    "
   ]
  },
  {
   "cell_type": "code",
   "execution_count": 5,
   "metadata": {},
   "outputs": [],
   "source": [
    "# EMアルゴリズムによる感情分析の結果を保存\n",
    "pd_Φ = pd.read_parquet('./parquet_data/20250227_tweet_EM_Φ.parquet')\n",
    "for label in sentiment_list:\n",
    "\tpd_Φ[label] = 0.0\n",
    "\n",
    "for col, res in zip(pd_Φ.columns, res_class):\n",
    "\tlabel = sentiment_list[res - 1]\n",
    "\tpd_Φ.loc[:, label] = pd_Φ.loc[:, label] + pd_Φ.loc[:, col]\n",
    "pd_Φ = pd_Φ[[label for label in sentiment_list]]\n",
    "pd_Φ.to_parquet('./parquet_data/20250227_tweet_EM_sentiment.parquet')\n",
    "\n",
    "\n",
    "\n",
    "# 変分ベイズアルゴリズムによる感情分析の結果を保存\n",
    "pd_Φ = pd.read_parquet('./parquet_data/20250227_tweet_VB_Φ.parquet')\n",
    "for label in sentiment_list:\n",
    "\tpd_Φ[label] = 0.0\n",
    "\n",
    "for col, res in zip(pd_Φ.columns, res_class):\n",
    "\tlabel = sentiment_list[res - 1]\n",
    "\tpd_Φ.loc[:, label] = pd_Φ.loc[:, label] + pd_Φ.loc[:, col]\n",
    "pd_Φ = pd_Φ[[label for label in sentiment_list]]\n",
    "pd_Φ.to_parquet('./parquet_data/20250227_tweet_VB_sentiment.parquet')\n",
    "\n",
    "\n",
    "\n",
    "# ギブスサンプリングアルゴリズムによる感情分析の結果を保存\n",
    "pd_Φ = pd.read_parquet('./parquet_data/20250227_tweet_CGS_Φ.parquet')\n",
    "for label in sentiment_list:\n",
    "\tpd_Φ[label] = 0.0\n",
    "\n",
    "for col, res in zip(pd_Φ.columns, res_class):\n",
    "\tlabel = sentiment_list[res - 1]\n",
    "\tpd_Φ.loc[:, label] = pd_Φ.loc[:, label] + pd_Φ.loc[:, col]\n",
    "pd_Φ = pd_Φ[[label for label in sentiment_list]]\n",
    "pd_Φ.to_parquet('./parquet_data/20250227_tweet_CGS_sentiment.parquet')"
   ]
  },
  {
   "cell_type": "code",
   "execution_count": null,
   "metadata": {},
   "outputs": [],
   "source": []
  }
 ],
 "metadata": {
  "kernelspec": {
   "display_name": "Python 3",
   "language": "python",
   "name": "python3"
  },
  "language_info": {
   "codemirror_mode": {
    "name": "ipython",
    "version": 3
   },
   "file_extension": ".py",
   "mimetype": "text/x-python",
   "name": "python",
   "nbconvert_exporter": "python",
   "pygments_lexer": "ipython3",
   "version": "3.13.1"
  }
 },
 "nbformat": 4,
 "nbformat_minor": 2
}
