{
 "cells": [
  {
   "cell_type": "code",
   "execution_count": 1,
   "metadata": {},
   "outputs": [],
   "source": [
    "import re\n",
    "import pandas as pd\n",
    "from tqdm.notebook import tqdm\n",
    "\n",
    "import torch\n",
    "from transformers import AutoTokenizer, AutoModelForSequenceClassification\n"
   ]
  },
  {
   "cell_type": "code",
   "execution_count": 2,
   "metadata": {},
   "outputs": [],
   "source": [
    "# 事前学習済みの日本語感情分析モデルとそのトークナイザをロード\n",
    "# model_name = 'lxyuan/distilbert-base-multilingual-cased-sentiments-student'\n",
    "model_name = 'Mizuiro-sakura/luke-japanese-large-sentiment-analysis-wrime'\n",
    "model = AutoModelForSequenceClassification.from_pretrained(model_name)\n",
    "tokenizer = AutoTokenizer.from_pretrained(model_name, model_max_length=512)\n",
    "\n",
    "# 感情分析のためのパイプラインを設定\n",
    "# nlp = pipeline('sentiment-analysis', model=model, tokenizer=tokenizer, truncation=True)\n",
    "\n",
    "# 使用するデバイスの設定\n",
    "device = torch.device(\"mps\") if torch.backends.mps.is_available() else torch.device(\"cpu\")\n",
    "\n",
    "# モデルをデバイスに転送\n",
    "model = model.to(device)\n"
   ]
  },
  {
   "cell_type": "code",
   "execution_count": 3,
   "metadata": {},
   "outputs": [
    {
     "data": {
      "text/plain": [
       "['喜び', '悲しみ', '期待', '驚き', '怒り', '恐れ', '嫌悪', '信頼']"
      ]
     },
     "execution_count": 3,
     "metadata": {},
     "output_type": "execute_result"
    }
   ],
   "source": [
    "pd_Φ  = pd.read_parquet('./parquet_data/20250227_tweet_EM_Φ.parquet')\n",
    "words = [re.sub(r'単語\\d+:', '', elem) for elem in pd_Φ.columns]\n",
    "# sentiment_list = [label for label in model.config.id2label.values()]\n",
    "sentiment_list = ['喜び', '悲しみ', '期待', '驚き', '怒り', '恐れ', '嫌悪', '信頼']\n",
    "sentiment_list"
   ]
  },
  {
   "cell_type": "code",
   "execution_count": 4,
   "metadata": {},
   "outputs": [],
   "source": [
    "res_class  = []\n",
    "batch_size = 64\n",
    "for idx in range(0, len(words), batch_size):\n",
    "\ttargets = words[idx:idx+batch_size]\n",
    "    \n",
    "\tinputs  = tokenizer(targets, return_tensors='pt', padding=True, truncation=True, max_length=512)\n",
    "\tinputs  = {key: value.to(device) for key, value in inputs.items()}\n",
    "\toutputs = model(**inputs)\n",
    "\tprobab  = torch.softmax(outputs.logits, dim=1).tolist()\n",
    " \n",
    "\t# 0:negative, 1:neutral, 2:positive\n",
    "\tres_class.extend(probab)\n",
    "\n",
    "# 各単語の分類結果の保存\n",
    "pd_sentiment = pd.DataFrame(data=[[a]+b for a,b in zip(words, res_class)], columns=['word'] + sentiment_list)\n",
    "pd_sentiment.to_parquet('./parquet_data/20250227_tweet_sentiment.parquet')\n",
    "    "
   ]
  },
  {
   "cell_type": "code",
   "execution_count": 5,
   "metadata": {},
   "outputs": [],
   "source": [
    "# EMアルゴリズムによる感情分析の結果を保存\n",
    "pd_Φ = pd.read_parquet('./parquet_data/20250227_tweet_EM_Φ.parquet')\n",
    "for label in sentiment_list:\n",
    "\tpd_Φ[label] = 0.0\n",
    "# sentiment_listの分だけpd_Φの列が増えているが、zip関数の挙動的に要素数の少ないres_classに合わせて動作するため問題ない\n",
    "for col, res in zip(pd_Φ.columns, res_class):\n",
    "    # 各単語の感情分析結果を重み付けして感情分析結果を算出\n",
    "\tfor label in sentiment_list:\n",
    "\t\tpd_Φ.loc[:, label] = pd_Φ.loc[:, label] + pd_Φ.loc[:, col] * res[sentiment_list.index(label)]\n",
    "pd_Φ = pd_Φ[[label for label in sentiment_list]]\n",
    "pd_Φ = pd_Φ.round(4)\n",
    "pd_Φ.to_parquet('./parquet_data/20250227_tweet_EM_sentiment.parquet')\n",
    "\n",
    "\n",
    "\n",
    "# 変分ベイズアルゴリズムによる感情分析の結果を保存\n",
    "pd_Φ = pd.read_parquet('./parquet_data/20250227_tweet_VB_Φ.parquet')\n",
    "for label in sentiment_list:\n",
    "\tpd_Φ[label] = 0.0\n",
    "# sentiment_listの分だけpd_Φの列が増えているが、zip関数の挙動的に要素数の少ないres_classに合わせて動作するため問題ない\n",
    "for col, res in zip(pd_Φ.columns, res_class):\n",
    "    # 各単語の感情分析結果を重み付けして感情分析結果を算出\n",
    "\tfor label in sentiment_list:\n",
    "\t\tpd_Φ.loc[:, label] = pd_Φ.loc[:, label] + pd_Φ.loc[:, col] * res[sentiment_list.index(label)]\n",
    "pd_Φ = pd_Φ[[label for label in sentiment_list]]\n",
    "pd_Φ = pd_Φ.round(4)\n",
    "pd_Φ.to_parquet('./parquet_data/20250227_tweet_VB_sentiment.parquet')\n",
    "\n",
    "\n",
    "\n",
    "# ギブスサンプリングアルゴリズムによる感情分析の結果を保存\n",
    "pd_Φ = pd.read_parquet('./parquet_data/20250227_tweet_CGS_Φ.parquet')\n",
    "for label in sentiment_list:\n",
    "\tpd_Φ[label] = 0.0\n",
    "# sentiment_listの分だけpd_Φの列が増えているが、zip関数の挙動的に要素数の少ないres_classに合わせて動作するため問題ない\n",
    "for col, res in zip(pd_Φ.columns, res_class):\n",
    "    # 各単語の感情分析結果を重み付けして感情分析結果を算出\n",
    "\tfor label in sentiment_list:\n",
    "\t\tpd_Φ.loc[:, label] = pd_Φ.loc[:, label] + pd_Φ.loc[:, col] * res[sentiment_list.index(label)]\n",
    "pd_Φ = pd_Φ[[label for label in sentiment_list]]\n",
    "pd_Φ = pd_Φ.round(4)\n",
    "pd_Φ.to_parquet('./parquet_data/20250227_tweet_CGS_sentiment.parquet')"
   ]
  },
  {
   "cell_type": "code",
   "execution_count": 7,
   "metadata": {},
   "outputs": [
    {
     "data": {
      "application/vnd.jupyter.widget-view+json": {
       "model_id": "8225fc9b0c7d41d98373b1a126a770a4",
       "version_major": 2,
       "version_minor": 0
      },
      "text/plain": [
       "  0%|          | 0/511 [00:00<?, ?it/s]"
      ]
     },
     "metadata": {},
     "output_type": "display_data"
    }
   ],
   "source": [
    "df_tweet  = pd.read_parquet('./parquet_data/20250227_tweet_normalized.parquet')\n",
    "documents = df_tweet['text'].tolist()\n",
    "\n",
    "res_class  = []\n",
    "res_probab = []\n",
    "batch_size = 4\n",
    "for idx in tqdm(range(0, len(documents), batch_size)):\n",
    "\ttargets = documents[idx:idx+batch_size]\n",
    "    \n",
    "\tinputs  = tokenizer(targets, return_tensors='pt', padding=True, truncation=True, max_length=512)\n",
    "\tinputs  = {key: value.to(device) for key, value in inputs.items()}\n",
    "\toutputs = model(**inputs)\n",
    "\tprobab  = torch.softmax(outputs.logits, dim=1)\n",
    "\tresults = [sentiment_list[idx] for idx in torch.argmax(probab, dim=1).tolist()]\n",
    "\tprobab  = probab.tolist()\n",
    " \n",
    "\t# 0:negative, 1:neutral, 2:positive\n",
    "\tres_class.extend(results)\n",
    "\tres_probab.extend(probab)\n",
    "\n",
    "# 各文書の分類結果の保存\n",
    "df_tweet['classification'] = res_class\n",
    "for idx, label in enumerate(sentiment_list):\n",
    "    df_tweet[label] = [elem[idx] for elem in res_probab]\n",
    "\n",
    "df_tweet.to_parquet('./parquet_data/20250227_tweet_normalized.parquet')"
   ]
  },
  {
   "cell_type": "code",
   "execution_count": null,
   "metadata": {},
   "outputs": [],
   "source": []
  }
 ],
 "metadata": {
  "kernelspec": {
   "display_name": "Python 3",
   "language": "python",
   "name": "python3"
  },
  "language_info": {
   "codemirror_mode": {
    "name": "ipython",
    "version": 3
   },
   "file_extension": ".py",
   "mimetype": "text/x-python",
   "name": "python",
   "nbconvert_exporter": "python",
   "pygments_lexer": "ipython3",
   "version": "3.13.1"
  }
 },
 "nbformat": 4,
 "nbformat_minor": 2
}
